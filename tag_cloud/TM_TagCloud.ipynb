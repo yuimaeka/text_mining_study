{
 "cells": [
  {
   "cell_type": "markdown",
   "metadata": {},
   "source": [
    "# 番外. タグクラウドを作ってみる\n",
    "***\n",
    "[IT技術三昧](http://zanmai.net)提供のJavaScriptファイルを使用し、\n",
    "好きな文章からタグクラウドを作ってみる。\n",
    "\n",
    "まずは第一回と同様にファイルを読みこむ。\n",
    "今回は[共通レビュアーの観点の類似性に基づく書籍推薦手法](http://db-event.jpn.org/deim2018/data/papers/27.pdf)という\n",
    "工学院大学の論文を用いた。"
   ]
  },
  {
   "cell_type": "code",
   "execution_count": 2,
   "metadata": {},
   "outputs": [],
   "source": [
    "from janome.tokenizer import Tokenizer\n",
    "import codecs\n",
    "from collections import Counter\n",
    "t=Tokenizer()\n",
    "with codecs.open('input.txt','r','utf8') as f:\n",
    "    text=f.read()\n",
    "    twe=[token.base_form for token in t.tokenize(text,stream=True) if token.part_of_speech.split(',')[0]=='名詞']\n",
    "    twec=Counter(twe)"
   ]
  },
  {
   "cell_type": "code",
   "execution_count": 3,
   "metadata": {},
   "outputs": [
    {
     "data": {
      "text/plain": [
       "collections.Counter"
      ]
     },
     "execution_count": 3,
     "metadata": {},
     "output_type": "execute_result"
    }
   ],
   "source": [
    "type(twec)"
   ]
  },
  {
   "cell_type": "markdown",
   "metadata": {},
   "source": [
    "`most_common()`\n",
    "\n",
    "最も多い n 要素を、カウントが多いものから少ないものまで順に並べたリストを返す。 n が省略されるか None であれば、 most_common() はカウンタのすべての要素を返す。等しいカウントの要素は任意に並べられる。\n",
    "\n",
    "\n",
    "keyとvalueに分けてリストに入れていった。"
   ]
  },
  {
   "cell_type": "code",
   "execution_count": 31,
   "metadata": {},
   "outputs": [],
   "source": [
    "k_list=[]\n",
    "v_list=[]\n",
    "for i in range(20):\n",
    "    k,v=twec.most_common()[i]\n",
    "    k_list.append(k)\n",
    "    v_list.append(v)"
   ]
  },
  {
   "cell_type": "code",
   "execution_count": 14,
   "metadata": {},
   "outputs": [
    {
     "data": {
      "text/plain": [
       "['書籍', 'レビュー', '推薦', 'ユーザ', 'こと', '手法', '類似', '印象', '度', '品詞']"
      ]
     },
     "execution_count": 14,
     "metadata": {},
     "output_type": "execute_result"
    }
   ],
   "source": [
    "k_list"
   ]
  },
  {
   "cell_type": "code",
   "execution_count": 16,
   "metadata": {},
   "outputs": [
    {
     "data": {
      "text/plain": [
       "[207, 123, 94, 82, 70, 65, 59, 45, 44, 44]"
      ]
     },
     "execution_count": 16,
     "metadata": {},
     "output_type": "execute_result"
    }
   ],
   "source": [
    "v_list"
   ]
  },
  {
   "cell_type": "markdown",
   "metadata": {},
   "source": [
    "相対頻度を計算する為、最大値を取っておく。"
   ]
  },
  {
   "cell_type": "code",
   "execution_count": 32,
   "metadata": {},
   "outputs": [],
   "source": [
    "largest=v_list[0]"
   ]
  },
  {
   "cell_type": "code",
   "execution_count": 33,
   "metadata": {},
   "outputs": [
    {
     "data": {
      "text/plain": [
       "207"
      ]
     },
     "execution_count": 33,
     "metadata": {},
     "output_type": "execute_result"
    }
   ],
   "source": [
    "largest"
   ]
  },
  {
   "cell_type": "markdown",
   "metadata": {},
   "source": [
    "相対頻度のリストを生成"
   ]
  },
  {
   "cell_type": "code",
   "execution_count": 34,
   "metadata": {},
   "outputs": [
    {
     "data": {
      "text/plain": [
       "[1.0,\n",
       " 0.5942028985507246,\n",
       " 0.45410628019323673,\n",
       " 0.3961352657004831,\n",
       " 0.33816425120772947,\n",
       " 0.3140096618357488,\n",
       " 0.28502415458937197,\n",
       " 0.21739130434782608,\n",
       " 0.21256038647342995,\n",
       " 0.21256038647342995,\n",
       " 0.14492753623188406,\n",
       " 0.13043478260869565,\n",
       " 0.13043478260869565,\n",
       " 0.13043478260869565,\n",
       " 0.12560386473429952,\n",
       " 0.12560386473429952,\n",
       " 0.12077294685990338,\n",
       " 0.11594202898550725,\n",
       " 0.1111111111111111,\n",
       " 0.1111111111111111]"
      ]
     },
     "execution_count": 34,
     "metadata": {},
     "output_type": "execute_result"
    }
   ],
   "source": [
    "freq_list=[]\n",
    "for i in range(20):\n",
    "    freq_list.append(v_list[i]/largest)\n",
    "\n",
    "freq_list"
   ]
  },
  {
   "cell_type": "markdown",
   "metadata": {},
   "source": [
    "HTMLファイルに書き出す為のリストを生成"
   ]
  },
  {
   "cell_type": "code",
   "execution_count": 35,
   "metadata": {},
   "outputs": [
    {
     "data": {
      "text/plain": [
       "['<a href=\"\" class=\"s1\" scale=\"2.0\">書籍</a>',\n",
       " '<a href=\"\" class=\"s1\" scale=\"1.2\">レビュー</a>',\n",
       " '<a href=\"\" class=\"s1\" scale=\"0.9\">推薦</a>',\n",
       " '<a href=\"\" class=\"s1\" scale=\"0.8\">ユーザ</a>',\n",
       " '<a href=\"\" class=\"s1\" scale=\"0.7\">こと</a>',\n",
       " '<a href=\"\" class=\"s1\" scale=\"0.6\">手法</a>',\n",
       " '<a href=\"\" class=\"s1\" scale=\"0.6\">類似</a>',\n",
       " '<a href=\"\" class=\"s1\" scale=\"0.4\">印象</a>',\n",
       " '<a href=\"\" class=\"s1\" scale=\"0.4\">度</a>',\n",
       " '<a href=\"\" class=\"s1\" scale=\"0.4\">品詞</a>',\n",
       " '<a href=\"\" class=\"s1\" scale=\"0.3\">中</a>',\n",
       " '<a href=\"\" class=\"s1\" scale=\"0.3\">2</a>',\n",
       " '<a href=\"\" class=\"s1\" scale=\"0.3\">ごと</a>',\n",
       " '<a href=\"\" class=\"s1\" scale=\"0.3\">評価</a>',\n",
       " '<a href=\"\" class=\"s1\" scale=\"0.3\">提案</a>',\n",
       " '<a href=\"\" class=\"s1\" scale=\"0.3\">単語</a>',\n",
       " '<a href=\"\" class=\"s1\" scale=\"0.2\">重み</a>',\n",
       " '<a href=\"\" class=\"s1\" scale=\"0.2\">比較</a>',\n",
       " '<a href=\"\" class=\"s1\" scale=\"0.2\">1</a>',\n",
       " '<a href=\"\" class=\"s1\" scale=\"0.2\">.</a>']"
      ]
     },
     "execution_count": 35,
     "metadata": {},
     "output_type": "execute_result"
    }
   ],
   "source": [
    "out_list=[]\n",
    "for i in range(20):\n",
    "    out_list.append('<a href=\"\" class=\"s1\" scale=\"'+str(round(2.0*freq_list[i],1))+'\">'+k_list[i]+'</a>')\n",
    "    \n",
    "out_list"
   ]
  },
  {
   "cell_type": "markdown",
   "metadata": {},
   "source": [
    "htmlタグの書き込みで不具合が発生しがちなので、ヘッダー、フッターはあらかじめ別のテキストファイルに用意し、\n",
    "そこから読み込んだ。\n",
    "それからoutput.htmlに順番通りに書き込んだ。"
   ]
  },
  {
   "cell_type": "code",
   "execution_count": 36,
   "metadata": {},
   "outputs": [],
   "source": [
    "with codecs.open('header.txt','r','utf8') as f:\n",
    "    header=f.read()\n",
    "    \n",
    "with codecs.open('footer.txt','r','utf8') as f:\n",
    "    footer=f.read()\n",
    "\n",
    "with codecs.open('output.html','w','utf8') as f:\n",
    "    f.write(header)\n",
    "    for i in range(20):\n",
    "        f.write(out_list[i])\n",
    "        f.write('\\n')\n",
    "    f.write(footer)"
   ]
  },
  {
   "cell_type": "markdown",
   "metadata": {},
   "source": [
    "<img src=\"capture.png\">\n",
    "こんな感じで生成できた。\n",
    "（実際はカーソルに応じて動く）"
   ]
  }
 ],
 "metadata": {
  "kernelspec": {
   "display_name": "Python 3",
   "language": "python",
   "name": "python3"
  },
  "language_info": {
   "codemirror_mode": {
    "name": "ipython",
    "version": 3
   },
   "file_extension": ".py",
   "mimetype": "text/x-python",
   "name": "python",
   "nbconvert_exporter": "python",
   "pygments_lexer": "ipython3",
   "version": "3.7.0"
  }
 },
 "nbformat": 4,
 "nbformat_minor": 2
}
